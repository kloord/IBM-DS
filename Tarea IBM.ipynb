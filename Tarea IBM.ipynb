{
 "cells": [
  {
   "cell_type": "markdown",
   "id": "42eb125d-48ad-4ad8-a346-2918121cf158",
   "metadata": {},
   "source": [
    "Ejercicio 2\n",
    "# Cuaderno de Ciencia de Datos\n"
   ]
  },
  {
   "cell_type": "markdown",
   "id": "469c2bff-b2bd-42fe-b2d2-3c3dd5633c50",
   "metadata": {},
   "source": [
    "Ejercicio 3\n",
    "## Introducción\n",
    "\n",
    "En este cuaderno exploraremos conceptos básicos de Ciencia de Datos, incluyendo el análisis de datos, visualización, y modelado estadístico. Se presentarán ejemplos prácticos utilizando Python y R.\n"
   ]
  },
  {
   "cell_type": "markdown",
   "id": "ed50105e-d077-4e1f-afe3-9eb15303d6bf",
   "metadata": {},
   "source": [
    "Ejercicio 4\n",
    "## Lenguajes en Ciencia de Datos\n",
    "\n",
    "- **Python**\n",
    "- **R**\n",
    "- **SQL**\n",
    "- **Julia**\n"
   ]
  },
  {
   "cell_type": "markdown",
   "id": "2f9e3b77-8699-4547-999a-8bc61ec66ffe",
   "metadata": {},
   "source": [
    "Ejercicio 5\n",
    "## Bibliotecas de Ciencia de Datos\n",
    "\n",
    "- **Pandas**: Análisis de datos.\n",
    "- **NumPy**: Cálculos numéricos.\n",
    "- **SciPy**: Funciones matemáticas.\n",
    "- **Scikit-learn**: Aprendizaje automático.\n",
    "- **Matplotlib** y **Seaborn**: Visualización de datos.\n"
   ]
  },
  {
   "cell_type": "markdown",
   "id": "7bc3d993-11ae-4afc-ab0d-ee8799cb7c72",
   "metadata": {
    "jp-MarkdownHeadingCollapsed": true
   },
   "source": [
    "Ejercicio 6\n",
    "## Herramientas de Ciencia de Datos\n",
    "\n",
    "| Herramienta          | Descripción                                       |\n",
    "|----------------------|---------------------------------------------------|\n",
    "| Jupyter Notebook     | Cuaderno interactivo para código y documentación. |\n",
    "| RStudio              | Entorno de desarrollo para R.                     |\n",
    "| Apache Spark         | Procesamiento distribuido de datos.               |\n",
    "| Tableau              | Visualización avanzada de datos.                |\n",
    "| GitHub               | Gestión de versiones y colaboración en proyectos. |\n"
   ]
  },
  {
   "cell_type": "markdown",
   "id": "109d9211-2349-4e82-a1c8-9296cf114d40",
   "metadata": {},
   "source": [
    "Ejercicio 7\n",
    "## Ejemplos de Expresiones Aritmeticas\n",
    "\n",
    "- Suma: `3 + 5 = 8`\n",
    "- Resta: `10 - 2 = 8`\n",
    "- Multiplicacion: `4 * 2 = 8`\n",
    "- Division: `16 / 2 = 8`\n"
   ]
  },
  {
   "cell_type": "code",
   "execution_count": 13,
   "id": "910108ec-e970-4b52-a24b-b680fd707326",
   "metadata": {},
   "outputs": [
    {
     "name": "stdout",
     "output_type": "stream",
     "text": [
      "El resultado es: 30\n"
     ]
    }
   ],
   "source": [
    "#Ejercicio 8\n",
    "# Multiplicar 4 por 5 y luego sumar 10\n",
    "prd = 4 * 5\n",
    "resul = producto + 10\n",
    "print(\"El resultado es:\", resul)\n"
   ]
  },
  {
   "cell_type": "code",
   "execution_count": 15,
   "id": "2bf75457-56a9-4644-a3d9-69ceacfba12a",
   "metadata": {},
   "outputs": [
    {
     "name": "stdout",
     "output_type": "stream",
     "text": [
      "135 minutos equivalen a 2 horas y 15 minutos.\n"
     ]
    }
   ],
   "source": [
    "#Ejercicio 9\n",
    "# Función para convertir minutos a horas y minutos\n",
    "def convertir_minutos(minutos):\n",
    "    hrs = min // 60\n",
    "    restante = min % 60\n",
    "    return hrs, restante\n",
    "\n",
    "# Ejemplo: Convertir 135 minutos\n",
    "min = 135\n",
    "hrs, restante = convertir_minutos(min)\n",
    "print(f\"{min} minutos equivalen a {hrs} horas y {restante} minutos.\")\n"
   ]
  },
  {
   "cell_type": "code",
   "execution_count": 16,
   "id": "232512cb-3cff-46f5-a9ec-c417164bb50a",
   "metadata": {},
   "outputs": [
    {
     "name": "stdout",
     "output_type": "stream",
     "text": [
      "Objetivos del cuaderno:\n",
      "- Conceptos fundamentales de Data Science\n",
      "- Análisis de datos\n",
      "- Técnicas de visualización\n",
      "- Modelos de aprendizaje automático\n"
     ]
    }
   ],
   "source": [
    "#Ejercicio 10\n",
    "obj = [\n",
    "    \"Conceptos fundamentales de Data Science\",\n",
    "    \"Análisis de datos\",\n",
    "    \"Técnicas de visualización\",\n",
    "    \"Modelos de aprendizaje automático\"\n",
    "]\n",
    "\n",
    "print(\"Objetivos del cuaderno:\")\n",
    "for obj in obj:\n",
    "    print(\"-\", obj)\n"
   ]
  },
  {
   "cell_type": "markdown",
   "id": "066080c6-66eb-40dc-a3a4-9d710a84b47a",
   "metadata": {},
   "source": [
    "#Ejercicio 11\n",
    "**Autor:** Antonio Gomez\n"
   ]
  },
  {
   "cell_type": "code",
   "execution_count": null,
   "id": "487fb4bd-96ef-401f-9614-6125dd5ebcf7",
   "metadata": {},
   "outputs": [],
   "source": []
  }
 ],
 "metadata": {
  "kernelspec": {
   "display_name": "Python 3 (ipykernel)",
   "language": "python",
   "name": "python3"
  },
  "language_info": {
   "codemirror_mode": {
    "name": "ipython",
    "version": 3
   },
   "file_extension": ".py",
   "mimetype": "text/x-python",
   "name": "python",
   "nbconvert_exporter": "python",
   "pygments_lexer": "ipython3",
   "version": "3.13.0"
  }
 },
 "nbformat": 4,
 "nbformat_minor": 5
}
